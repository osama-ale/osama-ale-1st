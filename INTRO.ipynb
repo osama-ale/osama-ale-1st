{
 "cells": [
  {
   "cell_type": "markdown",
   "metadata": {},
   "source": [
    "# INTRODUCTION : "
   ]
  },
  {
   "cell_type": "code",
   "execution_count": 8,
   "metadata": {},
   "outputs": [
    {
     "name": "stdout",
     "output_type": "stream",
     "text": [
      "my name is ali osama '\n",
      "'my father's name is  ali imran \n",
      "i am  20 \n",
      "years old \n",
      "i am graduating from usman institute of technology i amthe rseidential of karachi pakistan\n"
     ]
    }
   ],
   "source": [
    "name = \"ali osama\"\n",
    "father_name = \"ali imran\"\n",
    "age = 20\n",
    "education = \"usman institute of technology\"\n",
    "res = \"karachi pakistan\"\n",
    "print(\"my name is\",name,\"'\\n'my father's name is \",father_name,'\\n'\"i am \",age,'\\n'\"years old\",'\\n''i am graduating from',education,'i am'\n",
    "      'the rseidential of',res)"
   ]
  },
  {
   "cell_type": "code",
   "execution_count": null,
   "metadata": {},
   "outputs": [],
   "source": []
  }
 ],
 "metadata": {
  "kernelspec": {
   "display_name": "Python 3",
   "language": "python",
   "name": "python3"
  },
  "language_info": {
   "codemirror_mode": {
    "name": "ipython",
    "version": 3
   },
   "file_extension": ".py",
   "mimetype": "text/x-python",
   "name": "python",
   "nbconvert_exporter": "python",
   "pygments_lexer": "ipython3",
   "version": "3.7.4"
  }
 },
 "nbformat": 4,
 "nbformat_minor": 2
}
